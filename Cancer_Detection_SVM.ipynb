{
 "cells": [
  {
   "cell_type": "markdown",
   "id": "8d35b97a",
   "metadata": {},
   "source": [
    "## 1. Importing Packages And Libraries"
   ]
  },
  {
   "cell_type": "code",
   "execution_count": 35,
   "id": "5d72ec12",
   "metadata": {},
   "outputs": [],
   "source": [
    "import pandas as pd\n",
    "import numpy as np\n",
    "import matplotlib.pyplot as plot\n",
    "from sklearn.model_selection import train_test_split  \n",
    "from sklearn import svm\n",
    "from sklearn.metrics import classification_report\n",
    "from sklearn.metrics import accuracy_score"
   ]
  },
  {
   "cell_type": "markdown",
   "id": "63be4c1f",
   "metadata": {},
   "source": [
    "## 2. Load CSV File"
   ]
  },
  {
   "cell_type": "code",
   "execution_count": 23,
   "id": "88b34754",
   "metadata": {},
   "outputs": [
    {
     "data": {
      "text/plain": [
       "2    458\n",
       "4    241\n",
       "Name: Class, dtype: int64"
      ]
     },
     "execution_count": 23,
     "metadata": {},
     "output_type": "execute_result"
    }
   ],
   "source": [
    "dataset_df=pd.read_csv('D:\\krishna\\cancer_dataset_ML\\cell_samples.csv')\n",
    "dataset_df.head()\n",
    "dataset_df.shape\n",
    "dataset_df.count()\n",
    "dataset_df['Class'].value_counts()"
   ]
  },
  {
   "cell_type": "markdown",
   "id": "d77e5006",
   "metadata": {},
   "source": [
    "## 3. Distribution Of Classes"
   ]
  },
  {
   "cell_type": "code",
   "execution_count": 24,
   "id": "322d9d54",
   "metadata": {},
   "outputs": [
    {
     "data": {
      "text/plain": [
       "<AxesSubplot:xlabel='Clump', ylabel='UnifSize'>"
      ]
     },
     "execution_count": 24,
     "metadata": {},
     "output_type": "execute_result"
    },
    {
     "data": {
      "image/png": "[encoded data removed]",
      "text/plain": [
       "<Figure size 432x288 with 1 Axes>"
      ]
     },
     "metadata": {
      "needs_background": "light"
     },
     "output_type": "display_data"
    }
   ],
   "source": [
    " benign_df =dataset_df[dataset_df['Class']==2][0:200]\n",
    " malignant_df =dataset_df[dataset_df['Class']==4][0:200]\n",
    "  \n",
    " axes=benign_df.plot(kind='scatter', x='Clump', y='UnifSize', color='blue', label='benign')\n",
    " malignant_df.plot(kind='scatter', x='Clump', y='UnifSize', color='red', label='Malignant', ax=axes)\n",
    "        "
   ]
  },
  {
   "cell_type": "markdown",
   "id": "42115a0e",
   "metadata": {},
   "source": [
    "## 4. Identifying Unwanted Data"
   ]
  },
  {
   "cell_type": "code",
   "execution_count": 15,
   "id": "5952f977",
   "metadata": {},
   "outputs": [
    {
     "data": {
      "text/plain": [
       "ID              int64\n",
       "Clump           int64\n",
       "UnifSize        int64\n",
       "UnifShape       int64\n",
       "MargAdh         int64\n",
       "SingEpiSize     int64\n",
       "BareNuc        object\n",
       "BlandChrom      int64\n",
       "NormNucl        int64\n",
       "Mit             int64\n",
       "Class           int64\n",
       "dtype: object"
      ]
     },
     "execution_count": 15,
     "metadata": {},
     "output_type": "execute_result"
    }
   ],
   "source": [
    "dataset_df.dtypes"
   ]
  },
  {
   "cell_type": "markdown",
   "id": "f64d54c9",
   "metadata": {},
   "source": [
    "## 5. Removing Unwanted Data"
   ]
  },
  {
   "cell_type": "code",
   "execution_count": 17,
   "id": "8208637f",
   "metadata": {},
   "outputs": [
    {
     "data": {
      "text/plain": [
       "ID             int64\n",
       "Clump          int64\n",
       "UnifSize       int64\n",
       "UnifShape      int64\n",
       "MargAdh        int64\n",
       "SingEpiSize    int64\n",
       "BareNuc        int32\n",
       "BlandChrom     int64\n",
       "NormNucl       int64\n",
       "Mit            int64\n",
       "Class          int64\n",
       "dtype: object"
      ]
     },
     "execution_count": 17,
     "metadata": {},
     "output_type": "execute_result"
    }
   ],
   "source": [
    "#converting non numeric data into numeric data forcefully by using coerce\n",
    "dataset_df =dataset_df[pd.to_numeric(dataset_df['BareNuc'], errors='coerce').notnull()]\n",
    "\n",
    "#converting object datatype of BareNuc into type int\n",
    "dataset_df['BareNuc']= dataset_df['BareNuc'].astype('int')\n",
    "\n",
    "dataset_df.dtypes"
   ]
  },
  {
   "cell_type": "code",
   "execution_count": 18,
   "id": "fdbf5242",
   "metadata": {},
   "outputs": [
    {
     "data": {
      "text/plain": [
       "Index(['ID', 'Clump', 'UnifSize', 'UnifShape', 'MargAdh', 'SingEpiSize',\n",
       "       'BareNuc', 'BlandChrom', 'NormNucl', 'Mit', 'Class'],\n",
       "      dtype='object')"
      ]
     },
     "execution_count": 18,
     "metadata": {},
     "output_type": "execute_result"
    }
   ],
   "source": [
    "dataset_df.columns\n",
    "#checking relevent columns"
   ]
  },
  {
   "cell_type": "code",
   "execution_count": 19,
   "id": "0e8f4f39",
   "metadata": {},
   "outputs": [],
   "source": [
    "relevent_df=dataset_df[['Clump', 'UnifSize', 'UnifShape', 'MargAdh', 'SingEpiSize',\n",
    "       'BareNuc', 'BlandChrom', 'NormNucl', 'Mit']]\n",
    "\n",
    "#converting dataset into array\n",
    "\n",
    "#x is the 2 dimensional array of all independent variables\n",
    "x = np.asarray(relevent_df)\n",
    "\n",
    "#y is the 1 dimensional array of dependent variable\n",
    "y = np.asarray(dataset_df['Class'])"
   ]
  },
  {
   "cell_type": "code",
   "execution_count": 20,
   "id": "8071a7c5",
   "metadata": {},
   "outputs": [
    {
     "data": {
      "text/plain": [
       "array([[ 5,  1,  1,  1,  2,  1,  3,  1,  1],\n",
       "       [ 5,  4,  4,  5,  7, 10,  3,  2,  1],\n",
       "       [ 3,  1,  1,  1,  2,  2,  3,  1,  1],\n",
       "       [ 6,  8,  8,  1,  3,  4,  3,  7,  1],\n",
       "       [ 4,  1,  1,  3,  2,  1,  3,  1,  1]], dtype=int64)"
      ]
     },
     "execution_count": 20,
     "metadata": {},
     "output_type": "execute_result"
    }
   ],
   "source": [
    "x[0:5]"
   ]
  },
  {
   "cell_type": "code",
   "execution_count": 21,
   "id": "30532266",
   "metadata": {},
   "outputs": [
    {
     "data": {
      "text/plain": [
       "array([2, 2, 2, 2, 2], dtype=int64)"
      ]
     },
     "execution_count": 21,
     "metadata": {},
     "output_type": "execute_result"
    }
   ],
   "source": [
    "y[0:5]"
   ]
  },
  {
   "cell_type": "markdown",
   "id": "7c078b30",
   "metadata": {},
   "source": [
    "## 6. Divide Dataset Into Training And Testing Part"
   ]
  },
  {
   "cell_type": "code",
   "execution_count": 26,
   "id": "d16af92e",
   "metadata": {},
   "outputs": [],
   "source": [
    "x_train,x_test,y_train,y_test=train_test_split(x , y , test_size=0.2 , random_state=42)\n",
    "\n"
   ]
  },
  {
   "cell_type": "code",
   "execution_count": 27,
   "id": "8fe3ff23",
   "metadata": {},
   "outputs": [
    {
     "data": {
      "text/plain": [
       "(546, 9)"
      ]
     },
     "execution_count": 27,
     "metadata": {},
     "output_type": "execute_result"
    }
   ],
   "source": [
    "x_train.shape"
   ]
  },
  {
   "cell_type": "code",
   "execution_count": 28,
   "id": "39c344cc",
   "metadata": {},
   "outputs": [
    {
     "data": {
      "text/plain": [
       "(137, 9)"
      ]
     },
     "execution_count": 28,
     "metadata": {},
     "output_type": "execute_result"
    }
   ],
   "source": [
    "x_test.shape"
   ]
  },
  {
   "cell_type": "markdown",
   "id": "a66ee0bb",
   "metadata": {},
   "source": [
    "## 7. Build A Model (SVM with Scikit learn)"
   ]
  },
  {
   "cell_type": "code",
   "execution_count": 32,
   "id": "83e0dc12",
   "metadata": {},
   "outputs": [],
   "source": [
    "classifier = svm.SVC(kernel='linear', gamma='auto', C=2)\n",
    "classifier.fit(x_train, y_train)\n",
    "\n",
    "y_predict = classifier.predict(x_test)"
   ]
  },
  {
   "cell_type": "markdown",
   "id": "2cdbdb50",
   "metadata": {},
   "source": [
    "## 8. Manual Evaluation "
   ]
  },
  {
   "cell_type": "code",
   "execution_count": 34,
   "id": "e0bf670a",
   "metadata": {},
   "outputs": [
    {
     "name": "stdout",
     "output_type": "stream",
     "text": [
      "              precision    recall  f1-score   support\n",
      "\n",
      "           2       0.95      0.99      0.97        79\n",
      "           4       0.98      0.93      0.96        58\n",
      "\n",
      "    accuracy                           0.96       137\n",
      "   macro avg       0.97      0.96      0.96       137\n",
      "weighted avg       0.96      0.96      0.96       137\n",
      "\n"
     ]
    }
   ],
   "source": [
    "print(classification_report(y_test,y_predict))"
   ]
  },
  {
   "cell_type": "markdown",
   "id": "3e33e96d",
   "metadata": {},
   "source": [
    "## 9. Accuracy Score"
   ]
  },
  {
   "cell_type": "code",
   "execution_count": 39,
   "id": "31e87d4a",
   "metadata": {},
   "outputs": [
    {
     "name": "stdout",
     "output_type": "stream",
     "text": [
      "The number of accurate predictions is:  132\n"
     ]
    }
   ],
   "source": [
    "#find number of accurate predictions\n",
    "accurate_predictions = accuracy_score(y_test, y_predict, normalize=False)\n",
    "print(\"The number of accurate predictions is: \", accurate_predictions)"
   ]
  },
  {
   "cell_type": "code",
   "execution_count": 38,
   "id": "3fbf9c04",
   "metadata": {},
   "outputs": [
    {
     "name": "stdout",
     "output_type": "stream",
     "text": [
      "The accuracy of prediction is:  96.35036496350365\n"
     ]
    }
   ],
   "source": [
    "#find accuracy percentage \n",
    "accuracy = accuracy_score(y_test, y_predict)\n",
    "print(\"The accuracy of prediction is: \", accuracy*100)"
   ]
  }
 ],
 "metadata": {
  "kernelspec": {
   "display_name": "Python 3 (ipykernel)",
   "language": "python",
   "name": "python3"
  },
  "language_info": {
   "codemirror_mode": {
    "name": "ipython",
    "version": 3
   },
   "file_extension": ".py",
   "mimetype": "text/x-python",
   "name": "python",
   "nbconvert_exporter": "python",
   "pygments_lexer": "ipython3",
   "version": "3.9.7"
  }
 },
 "nbformat": 4,
 "nbformat_minor": 5
}
